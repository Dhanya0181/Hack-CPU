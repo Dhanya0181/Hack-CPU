{
  "nbformat": 4,
  "nbformat_minor": 0,
  "metadata": {
    "colab": {
      "provenance": []
    },
    "kernelspec": {
      "name": "python3",
      "display_name": "Python 3"
    },
    "language_info": {
      "name": "python"
    }
  },
  "cells": [
    {
      "cell_type": "code",
      "source": [
        "from google.colab import drive\n",
        "drive.mount(\"/content/drive\")"
      ],
      "metadata": {
        "colab": {
          "base_uri": "https://localhost:8080/"
        },
        "id": "ACPigr33XzV1",
        "outputId": "147ab4c2-5c3d-43f1-aff8-c3918d857d65"
      },
      "execution_count": 1,
      "outputs": [
        {
          "output_type": "stream",
          "name": "stdout",
          "text": [
            "Mounted at /content/drive\n"
          ]
        }
      ]
    },
    {
      "cell_type": "code",
      "source": [
        "from pathlib import Path\n",
        "def load_asm_file(file_path):\n",
        "    def read_lines():\n",
        "        file_content = Path(file_path).read_text().replace('\\r', '')\n",
        "        lines = file_content.split('\\n')\n",
        "        return lines\n",
        "\n",
        "    def remove_empty_lines(lines):\n",
        "        non_empty_lines = [l.strip() for l in lines if l.strip() and not l.strip().startswith('//')]\n",
        "        return non_empty_lines\n",
        "\n",
        "    lines = read_lines()\n",
        "    non_empty_lines = remove_empty_lines(lines)\n",
        "    return non_empty_lines"
      ],
      "metadata": {
        "id": "WyWMFTkaXwqv"
      },
      "execution_count": 49,
      "outputs": []
    },
    {
      "cell_type": "code",
      "execution_count": 42,
      "metadata": {
        "id": "CFKvkXUCXlSS"
      },
      "outputs": [],
      "source": [
        "def symbols(lines):\n",
        "    def is_label(line):\n",
        "        return line.startswith('(') and line.endswith(')')\n",
        "\n",
        "    def extract_label_name(label_declaration):\n",
        "        return label_declaration.strip('()')\n",
        "\n",
        "    def decimal_binary(lookuptable):\n",
        "        binary_dict = {}\n",
        "        for key, value in lookuptable.items():\n",
        "            binary_representation = bin(value)[2:]\n",
        "            binary_representation = binary_representation.rjust(16, '0')\n",
        "            binary_dict[key] = binary_representation\n",
        "        return binary_dict\n",
        "\n",
        "    def variablesymbols(lines, lookuptable):\n",
        "        variablestart = 16\n",
        "        for i in lines:\n",
        "            if i.startswith(\"@\"):\n",
        "                variable_name = i[1:]\n",
        "                if variable_name not in lookuptable:\n",
        "                    if variable_name.isdigit():\n",
        "                        lookuptable[variable_name] = int(variable_name)\n",
        "                    else:\n",
        "                        lookuptable[variable_name] = variablestart\n",
        "                        variablestart += 1\n",
        "        return lookuptable\n",
        "\n",
        "    # Main function logic\n",
        "    lookuptable = {\n",
        "        \"SCREEN\": 16384,\n",
        "        \"KBD\": 24576,\n",
        "        \"SP\": 0,\n",
        "        \"LCL\": 1,\n",
        "        \"ARG\": 2,\n",
        "        \"THIS\": 3,\n",
        "        \"THAT\": 4\n",
        "    }\n",
        "\n",
        "    for i in range(16):\n",
        "        label = \"R\" + str(i)\n",
        "        lookuptable[label] = i\n",
        "\n",
        "    program_counter = 0\n",
        "\n",
        "    for line in lines:\n",
        "        if is_label(line):\n",
        "            label_name = extract_label_name(line)\n",
        "            lookuptable[label_name] = program_counter\n",
        "        else:\n",
        "            program_counter += 1\n",
        "\n",
        "    nlookuptable = variablesymbols(lines, lookuptable)\n",
        "\n",
        "    return decimal_binary(nlookuptable)\n"
      ]
    },
    {
      "cell_type": "code",
      "source": [
        "def c_instruction(lines):\n",
        "    comp = {\n",
        "        \"0\": \"0101010\",\n",
        "        \"1\": \"0111111\",\n",
        "        \"-1\": \"0111010\",\n",
        "        \"D\": \"0001100\",\n",
        "        \"A\": \"0110000\",\n",
        "        \"!D\": \"0001101\",\n",
        "        \"!A\": \"0110001\",\n",
        "        \"-D\": \"0001111\",\n",
        "        \"-A\": \"0110011\",\n",
        "        \"D+1\": \"0011111\",\n",
        "        \"A+1\": \"0110111\",\n",
        "        \"D-1\": \"0001110\",\n",
        "        \"A-1\": \"0110010\",\n",
        "        \"D+A\": \"0000010\",\n",
        "        \"D-A\": \"0010011\",\n",
        "        \"A-D\": \"0000111\",\n",
        "        \"D&A\": \"0000000\",\n",
        "        \"D|A\": \"0010101\",\n",
        "        \"M\": \"1110000\",\n",
        "        \"!M\": \"1110001\",\n",
        "        \"-M\": \"1110011\",\n",
        "        \"M+1\": \"1110111\",\n",
        "        \"M-1\": \"1110010\",\n",
        "        \"D+M\": \"1000010\",\n",
        "        \"D-M\": \"1010011\",\n",
        "        \"M-D\": \"1000111\",\n",
        "        \"D&M\": \"1000000\",\n",
        "        \"D|M\": \"1010101\"\n",
        "    }\n",
        "\n",
        "    dest = {\n",
        "        \"null\": \"000\",\n",
        "        \"M\": \"001\",\n",
        "        \"D\": \"010\",\n",
        "        \"A\": \"100\",\n",
        "        \"MD\": \"011\",\n",
        "        \"AM\": \"101\",\n",
        "        \"AD\": \"110\",\n",
        "        \"AMD\": \"111\"\n",
        "    }\n",
        "\n",
        "    jump = {\n",
        "        \"null\": \"000\",\n",
        "        \"JGT\": \"001\",\n",
        "        \"JEQ\": \"010\",\n",
        "        \"JGE\": \"011\",\n",
        "        \"JLT\": \"100\",\n",
        "        \"JNE\": \"101\",\n",
        "        \"JLE\": \"110\",\n",
        "        \"JMP\": \"111\"\n",
        "    }\n",
        "\n",
        "    binary_instructions = []\n",
        "\n",
        "    for line in lines:\n",
        "        if line.startswith('@') or (line.startswith('(') and line.endswith(')')):\n",
        "            # Skip A-instructions and labels\n",
        "            continue\n",
        "\n",
        "        # Normalize C-instruction format\n",
        "        if \"=\" not in line:\n",
        "            line = \"null=\" + line\n",
        "        if \";\" not in line:\n",
        "            line = line + \";null\"\n",
        "\n",
        "        temp = line.split(\"=\")\n",
        "        destCode = dest.get(temp[0])\n",
        "        temp = temp[1].split(\";\")\n",
        "        compCode = comp.get(temp[0])\n",
        "        jumpCode = jump.get(temp[1])\n",
        "\n",
        "        binary_instructions.append(\"111\" + compCode + destCode + jumpCode)\n",
        "\n",
        "    return binary_instructions\n",
        "\n",
        "\n"
      ],
      "metadata": {
        "id": "XUGJdRxgXspA"
      },
      "execution_count": 46,
      "outputs": []
    },
    {
      "cell_type": "code",
      "source": [
        "file_path = '/content/drive/MyDrive/Max.asm'\n",
        "lines = load_asm_file(file_path)\n",
        "binary_dict = symbols(lines)\n",
        "\n",
        "for line in lines:\n",
        "    if line.startswith(\"@\") :\n",
        "        print(binary_dict.get(line[1:]))\n",
        "    elif line.startswith('(') and line.endswith(')'):\n",
        "        print(binary_dict.get(line.strip(\"( )\")))\n",
        "    else:\n",
        "        binary_instructions = c_instruction([line])\n",
        "        print(binary_instructions[0])\n",
        "\n"
      ],
      "metadata": {
        "colab": {
          "base_uri": "https://localhost:8080/"
        },
        "id": "_43HUZtoY99J",
        "outputId": "c22c03c0-286a-4098-b65f-6fdb15d0b02e"
      },
      "execution_count": 48,
      "outputs": [
        {
          "output_type": "stream",
          "name": "stdout",
          "text": [
            "0000000000000000\n",
            "1111110000010000\n",
            "0000000000000001\n",
            "1111010011010000\n",
            "0000000000001100\n",
            "1110001100000001\n",
            "0000000000000001\n",
            "1111110000010000\n",
            "0000000000000010\n",
            "1110001100001000\n",
            "0000000000010000\n",
            "1110101010000111\n",
            "0000000000001100\n",
            "0000000000000000\n",
            "1111110000010000\n",
            "0000000000000010\n",
            "1110001100001000\n",
            "0000000000010000\n",
            "0000000000010000\n",
            "1110101010000111\n"
          ]
        }
      ]
    },
    {
      "cell_type": "code",
      "source": [
        "# add.asm file\n",
        "\n",
        "#// This file is part of www.nand2tetris.org\n",
        "# // and the book \"The Elements of Computing Systems\"\n",
        "# // by Nisan and Schocken, MIT Press.\n",
        "# // File name: projects/06/add/Add.asm\n",
        "\n",
        "# // Computes R0 = 2 + 3  (R0 refers to RAM[0])\n",
        "\n",
        "# //@2\n",
        "# //D=A\n",
        "# //@3\n",
        "# //D=D+A\n",
        "# //@0\n",
        "# //M=D"
      ],
      "metadata": {
        "id": "d3KWYKHXkRTY"
      },
      "execution_count": null,
      "outputs": []
    }
  ]
}